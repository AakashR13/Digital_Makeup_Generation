{
 "cells": [
  {
   "cell_type": "markdown",
   "metadata": {},
   "source": [
    "# Facial Recog Library Test"
   ]
  },
  {
   "cell_type": "markdown",
   "metadata": {},
   "source": [
    "Install Guide:\n",
    "https://github.com/ageitgey/face_recognition"
   ]
  },
  {
   "cell_type": "code",
   "execution_count": 10,
   "metadata": {},
   "outputs": [],
   "source": [
    "from PIL import Image, ImageDraw\n",
    "import face_recognition"
   ]
  },
  {
   "cell_type": "code",
   "execution_count": 11,
   "metadata": {},
   "outputs": [],
   "source": [
    "image = face_recognition.load_image_file(\"Facial_Recog_test/testface.jpg\")\n"
   ]
  },
  {
   "cell_type": "code",
   "execution_count": 12,
   "metadata": {},
   "outputs": [
    {
     "name": "stdout",
     "output_type": "stream",
     "text": [
      "I found 1 face(s) in this photograph.\n",
      "The chin in this face has the following points: [(36, 63), (37, 97), (40, 132), (47, 164), (60, 192), (79, 217), (99, 239), (120, 258), (147, 263), (174, 258), (196, 239), (216, 216), (235, 193), (248, 166), (256, 136), (261, 104), (264, 71)]\n",
      "The left_eyebrow in this face has the following points: [(55, 60), (73, 49), (96, 50), (118, 55), (139, 64)]\n",
      "The right_eyebrow in this face has the following points: [(173, 64), (194, 58), (216, 54), (237, 56), (251, 69)]\n",
      "The nose_bridge in this face has the following points: [(155, 92), (155, 111), (154, 130), (154, 150)]\n",
      "The nose_tip in this face has the following points: [(124, 160), (138, 163), (152, 167), (166, 164), (179, 162)]\n",
      "The left_eye in this face has the following points: [(78, 87), (93, 80), (110, 82), (123, 96), (108, 99), (90, 97)]\n",
      "The right_eye in this face has the following points: [(184, 99), (198, 86), (215, 86), (229, 93), (216, 102), (199, 103)]\n",
      "The top_lip in this face has the following points: [(93, 184), (115, 184), (138, 184), (151, 187), (164, 185), (184, 186), (205, 186), (197, 188), (164, 197), (151, 198), (137, 196), (100, 186)]\n",
      "The bottom_lip in this face has the following points: [(205, 186), (183, 209), (163, 219), (149, 221), (134, 219), (113, 207), (93, 184), (100, 186), (136, 202), (150, 204), (163, 203), (197, 188)]\n"
     ]
    }
   ],
   "source": [
    "# Find all facial features in all the faces in the image\n",
    "face_landmarks_list = face_recognition.face_landmarks(image)\n",
    "\n",
    "print(\"I found {} face(s) in this photograph.\".format(len(face_landmarks_list)))\n",
    "\n",
    "# Create a PIL imagedraw object so we can draw on the picture\n",
    "pil_image = Image.fromarray(image)\n",
    "d = ImageDraw.Draw(pil_image)\n",
    "\n",
    "for face_landmarks in face_landmarks_list:\n",
    "\n",
    "    # Print the location of each facial feature in this image\n",
    "    for facial_feature in face_landmarks.keys():\n",
    "        print(\"The {} in this face has the following points: {}\".format(facial_feature, face_landmarks[facial_feature]))\n",
    "\n",
    "    # Let's trace out each facial feature in the image with a line!\n",
    "    for facial_feature in face_landmarks.keys():\n",
    "        d.line(face_landmarks[facial_feature], width=5)\n",
    "\n",
    "# Show the picture\n",
    "pil_image.show()\n",
    "pil_image.save('Facial_Recog_test/testface_landmarks.jpg')"
   ]
  },
  {
   "cell_type": "markdown",
   "metadata": {},
   "source": [
    "# Stasm Test"
   ]
  },
  {
   "cell_type": "markdown",
   "metadata": {},
   "source": [
    "Install Guide:\n",
    "https://github.com/alyssaq/stasm"
   ]
  },
  {
   "cell_type": "code",
   "execution_count": 13,
   "metadata": {},
   "outputs": [
    {
     "ename": "ModuleNotFoundError",
     "evalue": "No module named 'stasm'",
     "output_type": "error",
     "traceback": [
      "\u001b[0;31m---------------------------------------------------------------------------\u001b[0m",
      "\u001b[0;31mModuleNotFoundError\u001b[0m                       Traceback (most recent call last)",
      "\u001b[1;32m/home/dracon/Projects/Digital_Makeup_Generation/main.ipynb Cell 8\u001b[0m line \u001b[0;36m3\n\u001b[1;32m      <a href='vscode-notebook-cell:/home/dracon/Projects/Digital_Makeup_Generation/main.ipynb#X10sZmlsZQ%3D%3D?line=0'>1</a>\u001b[0m \u001b[39mimport\u001b[39;00m \u001b[39mos\u001b[39;00m\u001b[39m.\u001b[39;00m\u001b[39mpath\u001b[39;00m\n\u001b[1;32m      <a href='vscode-notebook-cell:/home/dracon/Projects/Digital_Makeup_Generation/main.ipynb#X10sZmlsZQ%3D%3D?line=1'>2</a>\u001b[0m \u001b[39mimport\u001b[39;00m \u001b[39mcv2\u001b[39;00m\n\u001b[0;32m----> <a href='vscode-notebook-cell:/home/dracon/Projects/Digital_Makeup_Generation/main.ipynb#X10sZmlsZQ%3D%3D?line=2'>3</a>\u001b[0m \u001b[39mimport\u001b[39;00m \u001b[39mstasm\u001b[39;00m\n",
      "\u001b[0;31mModuleNotFoundError\u001b[0m: No module named 'stasm'"
     ]
    }
   ],
   "source": [
    "# Doesnt work, needs stasm from src code along with opencv c++ bindings\n",
    "# import os.path\n",
    "# import cv2\n",
    "# import stasm"
   ]
  }
 ],
 "metadata": {
  "kernelspec": {
   "display_name": "Python 3",
   "language": "python",
   "name": "python3"
  },
  "language_info": {
   "codemirror_mode": {
    "name": "ipython",
    "version": 3
   },
   "file_extension": ".py",
   "mimetype": "text/x-python",
   "name": "python",
   "nbconvert_exporter": "python",
   "pygments_lexer": "ipython3",
   "version": "3.11.6"
  }
 },
 "nbformat": 4,
 "nbformat_minor": 2
}
